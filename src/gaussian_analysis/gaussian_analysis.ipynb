{
 "cells": [
  {
   "cell_type": "code",
   "execution_count": 3,
   "id": "6e071137-a09a-4bdf-b908-e0e6de15b51f",
   "metadata": {},
   "outputs": [
    {
     "name": "stdout",
     "output_type": "stream",
     "text": [
      "Collecting seaborn\n",
      "  Downloading seaborn-0.13.1-py3-none-any.whl (294 kB)\n",
      "\u001b[2K     \u001b[38;2;114;156;31m━━━━━━━━━━━━━━━━━━━━━━━━━━━━━━━━━━━━━━━\u001b[0m \u001b[32m294.8/294.8 kB\u001b[0m \u001b[31m5.0 MB/s\u001b[0m eta \u001b[36m0:00:00\u001b[0m MB/s\u001b[0m eta \u001b[36m0:00:01\u001b[0m\n",
      "\u001b[?25hRequirement already satisfied: numpy!=1.24.0,>=1.20 in /Users/mark/miniforge3/envs/bsc/lib/python3.10/site-packages (from seaborn) (1.24.3)\n",
      "Requirement already satisfied: pandas>=1.2 in /Users/mark/miniforge3/envs/bsc/lib/python3.10/site-packages (from seaborn) (2.0.1)\n",
      "Requirement already satisfied: matplotlib!=3.6.1,>=3.4 in /Users/mark/miniforge3/envs/bsc/lib/python3.10/site-packages (from seaborn) (3.7.1)\n",
      "Requirement already satisfied: contourpy>=1.0.1 in /Users/mark/miniforge3/envs/bsc/lib/python3.10/site-packages (from matplotlib!=3.6.1,>=3.4->seaborn) (1.0.7)\n",
      "Requirement already satisfied: cycler>=0.10 in /Users/mark/miniforge3/envs/bsc/lib/python3.10/site-packages (from matplotlib!=3.6.1,>=3.4->seaborn) (0.11.0)\n",
      "Requirement already satisfied: fonttools>=4.22.0 in /Users/mark/miniforge3/envs/bsc/lib/python3.10/site-packages (from matplotlib!=3.6.1,>=3.4->seaborn) (4.39.4)\n",
      "Requirement already satisfied: kiwisolver>=1.0.1 in /Users/mark/miniforge3/envs/bsc/lib/python3.10/site-packages (from matplotlib!=3.6.1,>=3.4->seaborn) (1.4.4)\n",
      "Requirement already satisfied: packaging>=20.0 in /Users/mark/miniforge3/envs/bsc/lib/python3.10/site-packages (from matplotlib!=3.6.1,>=3.4->seaborn) (23.1)\n",
      "Requirement already satisfied: pillow>=6.2.0 in /Users/mark/miniforge3/envs/bsc/lib/python3.10/site-packages (from matplotlib!=3.6.1,>=3.4->seaborn) (9.5.0)\n",
      "Requirement already satisfied: pyparsing>=2.3.1 in /Users/mark/miniforge3/envs/bsc/lib/python3.10/site-packages (from matplotlib!=3.6.1,>=3.4->seaborn) (2.4.7)\n",
      "Requirement already satisfied: python-dateutil>=2.7 in /Users/mark/miniforge3/envs/bsc/lib/python3.10/site-packages (from matplotlib!=3.6.1,>=3.4->seaborn) (2.8.2)\n",
      "Requirement already satisfied: pytz>=2020.1 in /Users/mark/miniforge3/envs/bsc/lib/python3.10/site-packages (from pandas>=1.2->seaborn) (2023.3)\n",
      "Requirement already satisfied: tzdata>=2022.1 in /Users/mark/miniforge3/envs/bsc/lib/python3.10/site-packages (from pandas>=1.2->seaborn) (2023.3)\n",
      "Requirement already satisfied: six>=1.5 in /Users/mark/miniforge3/envs/bsc/lib/python3.10/site-packages (from python-dateutil>=2.7->matplotlib!=3.6.1,>=3.4->seaborn) (1.16.0)\n",
      "Installing collected packages: seaborn\n",
      "Successfully installed seaborn-0.13.1\n",
      "Note: you may need to restart the kernel to use updated packages.\n"
     ]
    }
   ],
   "source": [
    "%pip install seaborn"
   ]
  },
  {
   "cell_type": "code",
   "execution_count": 4,
   "id": "e2a11d53-cf10-42cc-8262-15e93ea3d5ab",
   "metadata": {},
   "outputs": [
    {
     "name": "stdout",
     "output_type": "stream",
     "text": [
      "The autoreload extension is already loaded. To reload it, use:\n",
      "  %reload_ext autoreload\n"
     ]
    }
   ],
   "source": [
    "# allow to automatically update the imported modules\n",
    "%load_ext autoreload\n",
    "%autoreload 2\n",
    "\n",
    "# allow to use relative path in notebooks\n",
    "import os, sys\n",
    "sys.path.append(\"../training\")\n",
    "dir2 = os.path.abspath('')\n",
    "dir1 = os.path.dirname(dir2)\n",
    "if not dir1 in sys.path: sys.path.append(dir1)\n",
    "\n",
    "from training.data_loader import DataLoader\n",
    "from training.model import Model\n",
    "from scipy import stats\n",
    "import matplotlib.pyplot as plt\n",
    "import seaborn as sns\n",
    "import numpy as np"
   ]
  },
  {
   "cell_type": "code",
   "execution_count": 5,
   "id": "da72efbf-2e57-4320-b0df-ad4e7e9eb2e3",
   "metadata": {},
   "outputs": [
    {
     "name": "stdout",
     "output_type": "stream",
     "text": [
      "Downloading https://www.cs.toronto.edu/~kriz/cifar-10-python.tar.gz to ../../data/raw_dataset/cifar-10-python.tar.gz\n"
     ]
    },
    {
     "name": "stderr",
     "output_type": "stream",
     "text": [
      "100%|██████████| 170498071/170498071 [00:11<00:00, 14443154.41it/s]\n"
     ]
    },
    {
     "name": "stdout",
     "output_type": "stream",
     "text": [
      "Extracting ../../data/raw_dataset/cifar-10-python.tar.gz to ../../data/raw_dataset/\n",
      "Files already downloaded and verified\n",
      "Currently using: cpu\n"
     ]
    }
   ],
   "source": [
    "# load data\n",
    "data_loader = DataLoader()\n",
    "(x_train, y_train), (x_test, y_test) = data_loader.load_data()\n",
    "\n",
    "# instantiate the model\n",
    "model = Model()"
   ]
  },
  {
   "cell_type": "code",
   "execution_count": 6,
   "id": "4d530538-1617-435a-a1de-a7a96b435d4b",
   "metadata": {},
   "outputs": [],
   "source": [
    "# create loss arrays for two data samples\n",
    "def get_loss_arrays(known, unknown, test_known, test_unknown):\n",
    "    \"\"\"\n",
    "        Compute the loss array for two data samples\n",
    "        Input: Two Samples from Data - Known & Unknown (for both of them - train and test)\n",
    "        Output: Loss Array for each sample - known_loss_array, unknown_loss_array\n",
    "    \"\"\"\n",
    "    known_prob = model.predict(known)\n",
    "    unknown_prob = model.predict(unknown)\n",
    "\n",
    "    known_loss_array = [1-prob[test_known[i][0]] for i,prob in enumerate(known_prob)]\n",
    "    unknown_loss_array = [1-prob[test_unknown[i][0]] for i,prob in enumerate(unknown_prob)]\n",
    "\n",
    "    return known_loss_array, unknown_loss_array"
   ]
  },
  {
   "cell_type": "code",
   "execution_count": 11,
   "id": "10f878da",
   "metadata": {},
   "outputs": [
    {
     "data": {
      "text/plain": [
       "8"
      ]
     },
     "execution_count": 11,
     "metadata": {},
     "output_type": "execute_result"
    }
   ],
   "source": [
    "y_test[1][0]"
   ]
  },
  {
   "cell_type": "code",
   "execution_count": 7,
   "id": "0f523415-232f-4d14-b9c7-78f6028c478d",
   "metadata": {},
   "outputs": [
    {
     "name": "stderr",
     "output_type": "stream",
     "text": [
      "100%|██████████| 100/100 [00:01<00:00, 80.36it/s]\n",
      "100%|██████████| 100/100 [00:01<00:00, 74.88it/s]\n"
     ]
    }
   ],
   "source": [
    "known_loss_array, unknown_loss_array = get_loss_arrays(x_train[:100], x_test[:100], y_train[:100], y_test[:100])"
   ]
  },
  {
   "cell_type": "code",
   "execution_count": 8,
   "id": "6f77b07c-6f07-428f-b4aa-7e1587d2ed80",
   "metadata": {},
   "outputs": [],
   "source": [
    "def plot_loss_arrays(arr1, arr2):\n",
    "    \"\"\"\n",
    "        Plot both loss arrays - histograms\n",
    "        Input: Loss arrays for Known/ Unknown Datasets \n",
    "        Output: Plot of both losses\n",
    "    \"\"\"\n",
    "    plt.figure(figsize=(10, 6))\n",
    "\n",
    "    fig, axs = plt.subplots(1, 2, sharey=True, tight_layout=True)\n",
    "\n",
    "    axs[0].hist(arr1, bins=20)\n",
    "    axs[1].hist(arr2, bins=20)"
   ]
  },
  {
   "cell_type": "code",
   "execution_count": 9,
   "id": "e6e41662-caad-46ad-aec3-bb065e5400a2",
   "metadata": {},
   "outputs": [
    {
     "data": {
      "text/plain": [
       "<Figure size 1000x600 with 0 Axes>"
      ]
     },
     "metadata": {},
     "output_type": "display_data"
    },
    {
     "data": {
      "image/png": "[encoded data removed]",
      "text/plain": [
       "<Figure size 640x480 with 2 Axes>"
      ]
     },
     "metadata": {},
     "output_type": "display_data"
    }
   ],
   "source": [
    "plot_loss_arrays(known_loss_array, unknown_loss_array)"
   ]
  },
  {
   "cell_type": "code",
   "execution_count": 38,
   "id": "680f808a-1b42-4241-a4ea-5485f2de3518",
   "metadata": {},
   "outputs": [],
   "source": [
    "# https://www.researchgate.net/publication/291361625_Is_the_data_normally_distributed\n",
    "# https://www.ncbi.nlm.nih.gov/pmc/articles/PMC3693611/ \n",
    "def check_normal_distribution(data):\n",
    "    \"\"\"\n",
    "        Check if a loss array follow the gaussian distribution\n",
    "        Input: Loss array\n",
    "        Output: Boolan value - Does the function follow a Gaussian Distribution?\n",
    "    \"\"\"\n",
    "    stat_shapiro, p_value_shapiro = stats.shapiro(data)\n",
    "    stat_ks, p_value_ks = stats.kstest(data, stats.norm.cdf)\n",
    "    alpha = 0.05\n",
    "    if p_value_shapiro < alpha and p_value_ks < alpha:\n",
    "        return True\n",
    "    else:\n",
    "        return False"
   ]
  },
  {
   "cell_type": "code",
   "execution_count": 39,
   "id": "44e902f1-d48b-4e1c-bdee-4cde00fdab96",
   "metadata": {},
   "outputs": [
    {
     "data": {
      "text/plain": [
       "True"
      ]
     },
     "execution_count": 39,
     "metadata": {},
     "output_type": "execute_result"
    }
   ],
   "source": [
    "check_normal_distribution(known_loss_array)"
   ]
  },
  {
   "cell_type": "code",
   "execution_count": 40,
   "id": "088269fd-0657-4148-b249-194b8981327e",
   "metadata": {},
   "outputs": [],
   "source": [
    "def compute_mean_and_std(data):\n",
    "    \"\"\"\n",
    "        Compute the mean and the standard deviation of a loss array\n",
    "        Precondition: data should be a normal distribution; \n",
    "        Input: Loss array \n",
    "        Output: mean, standard deviation\n",
    "    \"\"\"\n",
    "    if not check_normal_distribution(data):\n",
    "        return None\n",
    "\n",
    "    mean_value = np.mean(data)\n",
    "    std_deviation = np.std(data)\n",
    "\n",
    "    return mean_value, std_deviation"
   ]
  },
  {
   "cell_type": "code",
   "execution_count": 41,
   "id": "98f4cfe3-28d2-410a-bb19-1c1a16bbd1a6",
   "metadata": {},
   "outputs": [
    {
     "data": {
      "text/plain": [
       "(0.4390463980846107, 0.33751540745888675)"
      ]
     },
     "execution_count": 41,
     "metadata": {},
     "output_type": "execute_result"
    }
   ],
   "source": [
    "compute_mean_and_std(known_loss_array)"
   ]
  }
 ],
 "metadata": {
  "kernelspec": {
   "display_name": "Python",
   "language": "python",
   "name": "python3"
  },
  "language_info": {
   "codemirror_mode": {
    "name": "ipython",
    "version": 3
   },
   "file_extension": ".py",
   "mimetype": "text/x-python",
   "name": "python",
   "nbconvert_exporter": "python",
   "pygments_lexer": "ipython3",
   "version": "3.10.11"
  }
 },
 "nbformat": 4,
 "nbformat_minor": 5
}
