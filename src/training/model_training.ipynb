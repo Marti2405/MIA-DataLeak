{
  "cells": [
    {
      "cell_type": "markdown",
      "metadata": {
        "id": "Su-sDczsPmJk"
      },
      "source": [
        "# Training the CNN with CIFAR-10"
      ]
    },
    {
      "cell_type": "markdown",
      "metadata": {
        "id": "Dq31vhC5PmJn"
      },
      "source": [
        "This notebook trains a CNN like ResNet-18 or LeNet5 with the CIFAR-10 dataset in a deterministic fashion and stores the obtained weights."
      ]
    },
    {
      "cell_type": "markdown",
      "metadata": {
        "id": "UcIWnvETPmJn"
      },
      "source": [
        "### 0. Import libraries and define settings"
      ]
    },
    {
      "cell_type": "code",
      "execution_count": 7,
      "metadata": {
        "colab": {
          "base_uri": "https://localhost:8080/"
        },
        "id": "1VdY58D3KMZO",
        "outputId": "4a525a7d-99b5-48be-c15d-4dbe4ffb1245"
      },
      "outputs": [
        {
          "name": "stdout",
          "output_type": "stream",
          "text": [
            "The autoreload extension is already loaded. To reload it, use:\n",
            "  %reload_ext autoreload\n"
          ]
        }
      ],
      "source": [
        "# import Python packages\n",
        "import os\n",
        "import time\n",
        "import random\n",
        "import numpy as np\n",
        "from tqdm import tqdm\n",
        "import seaborn as sns\n",
        "from matplotlib import pyplot as plt\n",
        "\n",
        "import torch\n",
        "import torch.nn as nn\n",
        "\n",
        "# import custom Python modules\n",
        "import utils\n",
        "from data_loader import DataLoader\n",
        "from resnet_architecture import ResNet\n",
        "from lenet_architecture import Net\n",
        "\n",
        "# allow to automatically update the imported modules\n",
        "%load_ext autoreload\n",
        "%autoreload 2\n",
        "\n",
        "sns.set()\n",
        "\n"
      ]
    },
    {
      "cell_type": "code",
      "execution_count": 8,
      "metadata": {
        "colab": {
          "base_uri": "https://localhost:8080/"
        },
        "id": "xJGrSmJ9PmJp",
        "outputId": "8977d479-5b01-4c4e-a05a-8466bb40f608"
      },
      "outputs": [
        {
          "name": "stdout",
          "output_type": "stream",
          "text": [
            "Currently using: cuda\n"
          ]
        }
      ],
      "source": [
        "# get cuda or cpu device for training\n",
        "device = utils.get_device()\n"
      ]
    },
    {
      "cell_type": "code",
      "execution_count": 9,
      "metadata": {
        "id": "puHSyhjJPmJp"
      },
      "outputs": [],
      "source": [
        "# make PyTorch deterministic\n",
        "random.seed(0)\n",
        "np.random.seed(0)\n",
        "torch.manual_seed(0)\n",
        "torch.backends.cudnn.benchmark = False\n",
        "torch.use_deterministic_algorithms(True)\n",
        "os.environ[\"CUBLAS_WORKSPACE_CONFIG\"] = \":4096:8\"\n"
      ]
    },
    {
      "cell_type": "code",
      "execution_count": 10,
      "metadata": {
        "id": "RHvqrCH5PmJq"
      },
      "outputs": [],
      "source": [
        "# define paths and model name\n",
        "MODEL_PATH = \"model/\"\n",
        "MODEL_NAME = \"baseline_lenet5_100_epochs.pth\"\n"
      ]
    },
    {
      "cell_type": "markdown",
      "metadata": {
        "id": "So0Y4qXvPmJq"
      },
      "source": [
        "### 1. Load and preprocess data"
      ]
    },
    {
      "cell_type": "code",
      "execution_count": 11,
      "metadata": {
        "colab": {
          "base_uri": "https://localhost:8080/"
        },
        "id": "e1WVamZiKSXR",
        "outputId": "85572eaa-2391-49e0-b55f-52e0dfbc85eb"
      },
      "outputs": [
        {
          "name": "stdout",
          "output_type": "stream",
          "text": [
            "Downloading https://www.cs.toronto.edu/~kriz/cifar-10-python.tar.gz to ../../data/raw_dataset/cifar-10-python.tar.gz\n"
          ]
        },
        {
          "name": "stderr",
          "output_type": "stream",
          "text": [
            "100%|██████████| 170498071/170498071 [00:04<00:00, 41663714.26it/s]\n"
          ]
        },
        {
          "name": "stdout",
          "output_type": "stream",
          "text": [
            "Extracting ../../data/raw_dataset/cifar-10-python.tar.gz to ../../data/raw_dataset/\n",
            "Files already downloaded and verified\n"
          ]
        }
      ],
      "source": [
        "data_loader = DataLoader()\n",
        "trainset, trainloader = data_loader.load_train_data()\n",
        "testset, testloader = data_loader.load_test_data()\n"
      ]
    },
    {
      "cell_type": "markdown",
      "metadata": {
        "id": "Arxo0jNoPmJq"
      },
      "source": [
        "### 2. Train the network"
      ]
    },
    {
      "cell_type": "code",
      "execution_count": 12,
      "metadata": {
        "id": "FIofWmkrT6Oh"
      },
      "outputs": [],
      "source": [
        "# instantiate the network\n",
        "net = Net().to(device) #ResNet().to(device)\n",
        "\n",
        "# define the loss function\n",
        "criterion = nn.CrossEntropyLoss()\n",
        "\n",
        "# declare the optimization function\n",
        "optimizer = torch.optim.Adam(net.parameters(), lr=0.001)\n"
      ]
    },
    {
      "cell_type": "code",
      "execution_count": 13,
      "metadata": {
        "colab": {
          "base_uri": "https://localhost:8080/"
        },
        "id": "IcG_bfjoT7Dx",
        "outputId": "c06735ae-3a1c-4e08-f4d8-2830bb7bd268"
      },
      "outputs": [
        {
          "name": "stderr",
          "output_type": "stream",
          "text": [
            "100%|██████████| 100/100 [28:20<00:00, 17.01s/it]\n"
          ]
        }
      ],
      "source": [
        "# initialize the timer\n",
        "start = time.time()\n",
        "\n",
        "# define lists that store train and test accuracy for each epoch\n",
        "train_acc = []\n",
        "test_acc = []\n",
        "\n",
        "for epoch in tqdm(range(0, 100)):\n",
        "\n",
        "    # initialize number of correct train predictions for the current epoch\n",
        "    correct_train_total = 0\n",
        "\n",
        "    net.train()  # Put the network in train mode\n",
        "    for i, (x_batch, y_batch) in enumerate(trainloader):\n",
        "        # Move the data to the device that is used\n",
        "        x_batch, y_batch = x_batch.to(device), y_batch.to(\n",
        "            device\n",
        "        )\n",
        "\n",
        "        # Set all currenly stored gradients to zero\n",
        "        optimizer.zero_grad()\n",
        "\n",
        "        y_pred = net(x_batch)\n",
        "\n",
        "        # compute loss\n",
        "        loss = criterion(y_pred, y_batch)\n",
        "\n",
        "        # backpropagate gradients\n",
        "        loss.backward()\n",
        "\n",
        "        # apply the optimization step\n",
        "        optimizer.step()\n",
        "\n",
        "        # Get the labels with highest output probability\n",
        "        y_pred_max = torch.argmax(\n",
        "            y_pred, dim=1\n",
        "        )\n",
        "\n",
        "        # Count how many are equal to the true labels\n",
        "        correct = torch.sum(\n",
        "            torch.eq(y_pred_max, y_batch)\n",
        "        ).item()\n",
        "\n",
        "        # Keep track of how much time has elapsed\n",
        "        elapsed = time.time() - start\n",
        "\n",
        "        # Accumulate number of correct predictions\n",
        "        correct_train_total += correct\n",
        "\n",
        "        correct_total = 0\n",
        "\n",
        "    # store train accuracy for current epoch\n",
        "    train_acc.append(correct_train_total / len(trainset))\n",
        "\n",
        "    # Put the network in eval mode\n",
        "    net.eval()\n",
        "\n",
        "    for i, (x_batch, y_batch) in enumerate(testloader):\n",
        "        # Move the data to the device that is used\n",
        "        x_batch, y_batch = x_batch.to(device), y_batch.to(\n",
        "            device\n",
        "        )\n",
        "\n",
        "        # count number of correct predictions\n",
        "        y_pred = net(x_batch)\n",
        "        y_pred_max = torch.argmax(y_pred, dim=1)\n",
        "\n",
        "        correct_total += torch.sum(torch.eq(y_pred_max, y_batch)).item()\n",
        "\n",
        "    # store test accuracy for current epoch\n",
        "    test_acc.append(correct_total / len(testset))\n"
      ]
    },
    {
      "cell_type": "markdown",
      "metadata": {
        "id": "Vx8rF89DPmJr"
      },
      "source": [
        "### 3. Visualize performance"
      ]
    },
    {
      "cell_type": "code",
      "execution_count": 17,
      "metadata": {
        "colab": {
          "base_uri": "https://localhost:8080/",
          "height": 517
        },
        "id": "rL6pdEiHPmJr",
        "outputId": "144be8ce-8b7a-4c76-ca5e-4c72c6d3e9b5"
      },
      "outputs": [
        {
          "name": "stdout",
          "output_type": "stream",
          "text": [
            "Train accuracy: 0.9284\n",
            "Test accuracy: 0.5152\n"
          ]
        },
        {
          "data": {
            "image/png": "[encoded data removed]",
            "text/plain": [
              "<Figure size 640x480 with 1 Axes>"
            ]
          },
          "metadata": {},
          "output_type": "display_data"
        }
      ],
      "source": [
        "plt.plot(range(len(train_acc)), train_acc, color=(0.48942421, 0.72854938, 0.56751036))\n",
        "plt.plot(range(len(test_acc)), test_acc, color=(0.14573579, 0.29354139, 0.49847009))\n",
        "plt.legend([\"train\", \"test\"])\n",
        "plt.xlabel(\"Epoch number\")\n",
        "plt.ylabel(\"Accuracy\")\n",
        "plt.title(\"Train and test accuracy evolution\")\n",
        "\n",
        "print(f\"Train accuracy: {train_acc[-1]}\\nTest accuracy: {test_acc[-1]}\")\n",
        "plt.savefig(\"./baseline_lenet5_100_epochs.png\", dpi=300)"
      ]
    },
    {
      "cell_type": "markdown",
      "metadata": {
        "id": "JUcEZJ_qPmJs"
      },
      "source": [
        "### 4. Store model"
      ]
    },
    {
      "cell_type": "code",
      "execution_count": 15,
      "metadata": {
        "id": "Ys5zqabOPmJs"
      },
      "outputs": [],
      "source": [
        "# create a folder for storing the models\n",
        "if not os.path.exists(MODEL_PATH):\n",
        "    os.mkdir(MODEL_PATH)\n",
        "\n",
        "# store the trained model\n",
        "torch.save(net.state_dict(), MODEL_PATH + MODEL_NAME)\n"
      ]
    }
  ],
  "metadata": {
    "accelerator": "GPU",
    "colab": {
      "provenance": []
    },
    "kernelspec": {
      "display_name": "Python",
      "language": "python",
      "name": "python3"
    },
    "language_info": {
      "codemirror_mode": {
        "name": "ipython",
        "version": 3
      },
      "file_extension": ".py",
      "mimetype": "text/x-python",
      "name": "python",
      "nbconvert_exporter": "python",
      "pygments_lexer": "ipython3",
      "version": "3.8.10"
    }
  },
  "nbformat": 4,
  "nbformat_minor": 0
}
