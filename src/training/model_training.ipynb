{
 "cells": [
  {
   "cell_type": "markdown",
   "metadata": {},
   "source": [
    "# Training the ResNet-18 with CIFAR-10"
   ]
  },
  {
   "cell_type": "markdown",
   "metadata": {},
   "source": [
    "This notebook trains the ResNet-18 network with the CIFAR-10 dataset in a deterministic fashion and stores the obtained weights."
   ]
  },
  {
   "cell_type": "markdown",
   "metadata": {},
   "source": [
    "### 0. Import libraries and define settings"
   ]
  },
  {
   "cell_type": "code",
   "execution_count": null,
   "metadata": {
    "id": "1VdY58D3KMZO"
   },
   "outputs": [],
   "source": [
    "# import Python packages\n",
    "import os\n",
    "import time\n",
    "import random\n",
    "import numpy as np\n",
    "from tqdm import tqdm\n",
    "from matplotlib import pyplot as plt\n",
    "\n",
    "import torch\n",
    "import torch.nn as nn\n",
    "import torch.nn.functional as F\n",
    "\n",
    "import torchvision\n",
    "import torchvision.transforms as transforms\n",
    "\n",
    "# allow to automatically update the imported modules\n",
    "%load_ext autoreload\n",
    "%autoreload 2"
   ]
  },
  {
   "cell_type": "code",
   "execution_count": null,
   "metadata": {
    "colab": {
     "base_uri": "https://localhost:8080/"
    },
    "executionInfo": {
     "elapsed": 31,
     "status": "ok",
     "timestamp": 1702728628184,
     "user": {
      "displayName": "Bindila Mihai-Bogdan",
      "userId": "02772170685454837234"
     },
     "user_tz": -60
    },
    "id": "rhZQhrlxKSTK",
    "outputId": "24523212-adef-4d95-b5be-8b374754d35f"
   },
   "outputs": [],
   "source": [
    "# select if the code runs on CPU or GPU\n",
    "use_cuda = True\n",
    "\n",
    "if use_cuda and torch.cuda.is_available():\n",
    "    device = torch.device(\"cuda\")\n",
    "else:\n",
    "    device = torch.device(\"cpu\")\n",
    "\n",
    "print(device)"
   ]
  },
  {
   "cell_type": "code",
   "execution_count": null,
   "metadata": {},
   "outputs": [],
   "source": [
    "# make PyTorch deterministic\n",
    "random.seed(0)\n",
    "np.random.seed(0)\n",
    "torch.manual_seed(0)\n",
    "torch.backends.cudnn.benchmark = False\n",
    "torch.use_deterministic_algorithms(True)\n",
    "os.environ[\"CUBLAS_WORKSPACE_CONFIG\"] = \":4096:8\""
   ]
  },
  {
   "cell_type": "code",
   "execution_count": null,
   "metadata": {},
   "outputs": [],
   "source": [
    "# define constants\n",
    "BATCH_SIZE = 128\n",
    "C, W, H = 3, 32, 32\n",
    "CLASSES = (\n",
    "    \"plane\",\n",
    "    \"car\",\n",
    "    \"bird\",\n",
    "    \"cat\",\n",
    "    \"deer\",\n",
    "    \"dog\",\n",
    "    \"frog\",\n",
    "    \"horse\",\n",
    "    \"ship\",\n",
    "    \"truck\",\n",
    ")\n",
    "\n",
    "# define paths and model name\n",
    "DATA_PATH = \"../../data/\"\n",
    "MODEL_PATH = \"../../models/\"\n",
    "MODEL_NAME = \"baseline_resnet.pth\""
   ]
  },
  {
   "cell_type": "markdown",
   "metadata": {},
   "source": [
    "### 1. Load and preprocess data"
   ]
  },
  {
   "cell_type": "code",
   "execution_count": null,
   "metadata": {
    "colab": {
     "base_uri": "https://localhost:8080/"
    },
    "executionInfo": {
     "elapsed": 11578,
     "status": "ok",
     "timestamp": 1702728639758,
     "user": {
      "displayName": "Bindila Mihai-Bogdan",
      "userId": "02772170685454837234"
     },
     "user_tz": -60
    },
    "id": "e1WVamZiKSXR",
    "outputId": "c50561e9-7019-439f-d091-0af642de95e9"
   },
   "outputs": [],
   "source": [
    "# augment and preprocess train data\n",
    "transform_train = transforms.Compose(\n",
    "    [\n",
    "        transforms.ToTensor(),\n",
    "        transforms.Normalize((0.4914, 0.4822, 0.4465), (0.2023, 0.1994, 0.2010)),\n",
    "    ]\n",
    ")\n",
    "\n",
    "trainset = torchvision.datasets.CIFAR10(\n",
    "    root=DATA_PATH, train=True, download=True, transform=transform_train\n",
    ")\n",
    "\n",
    "# define the train loader object\n",
    "trainloader = torch.utils.data.DataLoader(trainset, batch_size=BATCH_SIZE, shuffle=True)\n",
    "\n",
    "# augment and preprocess test data\n",
    "transform_test = transforms.Compose(\n",
    "    [\n",
    "        transforms.ToTensor(),\n",
    "        transforms.Normalize((0.4914, 0.4822, 0.4465), (0.2023, 0.1994, 0.2010)),\n",
    "    ]\n",
    ")\n",
    "\n",
    "testset = torchvision.datasets.CIFAR10(\n",
    "    root=DATA_PATH, train=False, download=True, transform=transform_test\n",
    ")\n",
    "\n",
    "# define the test loader object\n",
    "testloader = torch.utils.data.DataLoader(testset, batch_size=BATCH_SIZE, shuffle=True)\n"
   ]
  },
  {
   "cell_type": "markdown",
   "metadata": {},
   "source": [
    "### 2. Define architecture"
   ]
  },
  {
   "cell_type": "code",
   "execution_count": null,
   "metadata": {
    "id": "HK1qpjYwUFqh"
   },
   "outputs": [],
   "source": [
    "class ResidualBlock(nn.Module):\n",
    "    \"\"\"\n",
    "    This class defines the architecture of a residual block\n",
    "    and the function needed to pass the information through it.\n",
    "    \"\"\"\n",
    "\n",
    "    def __init__(self, in_channels, hidden_channels, out_channels):\n",
    "        \"\"\"\n",
    "        Defines the layers used in the block.\n",
    "        \"\"\"\n",
    "\n",
    "        super().__init__()\n",
    "\n",
    "        self.conv1 = nn.Conv2d(\n",
    "            in_channels, hidden_channels, kernel_size=3, stride=1, padding=1, bias=False\n",
    "        )\n",
    "        self.batch1 = nn.BatchNorm2d(hidden_channels)\n",
    "        self.relu = nn.ReLU()\n",
    "        self.conv2 = nn.Conv2d(\n",
    "            hidden_channels,\n",
    "            out_channels,\n",
    "            kernel_size=3,\n",
    "            stride=1,\n",
    "            padding=1,\n",
    "            bias=False,\n",
    "        )\n",
    "        self.batch2 = nn.BatchNorm2d(out_channels)\n",
    "\n",
    "        if in_channels != out_channels:\n",
    "            self.skip_connection = nn.Sequential(\n",
    "                nn.Conv2d(\n",
    "                    in_channels, out_channels, kernel_size=1, stride=1, bias=False\n",
    "                ),\n",
    "                nn.BatchNorm2d(out_channels),\n",
    "            )\n",
    "        else:\n",
    "            self.skip_connection = lambda x: x\n",
    "\n",
    "    def forward(self, x):\n",
    "        \"\"\"\n",
    "        This method connects the layers into one block.\n",
    "        \"\"\"\n",
    "\n",
    "        skip = self.skip_connection(x)\n",
    "        x = self.conv1(x)\n",
    "        x = self.batch1(x)\n",
    "        x = self.relu(x)\n",
    "        x = self.conv2(x)\n",
    "        x = self.batch2(x)\n",
    "        x = self.relu(x + skip)\n",
    "\n",
    "        return x\n"
   ]
  },
  {
   "cell_type": "code",
   "execution_count": null,
   "metadata": {
    "id": "0qVgN9lPKSeC"
   },
   "outputs": [],
   "source": [
    "class ResNet(nn.Module):\n",
    "    \"\"\"\n",
    "    It defines the architecture of the ResNet-18 network.\n",
    "    \"\"\"\n",
    "\n",
    "    def __init__(self, in_channels, out_size):\n",
    "        \"\"\"\n",
    "        This method creates all the layers and initializes the residual blocks.\n",
    "        \"\"\"\n",
    "\n",
    "        super().__init__()\n",
    "\n",
    "        self.conv1 = nn.Conv2d(\n",
    "            in_channels, 64, kernel_size=3, stride=1, padding=1, bias=False\n",
    "        )\n",
    "        self.batch1 = nn.BatchNorm2d(64)\n",
    "        self.relu = nn.ReLU()\n",
    "        self.pool1 = nn.MaxPool2d(3, stride=2, padding=1)\n",
    "\n",
    "        self.res_blocks = nn.ModuleList(\n",
    "            [\n",
    "                ResidualBlock(64, 64, 64),\n",
    "                ResidualBlock(64, 64, 64),\n",
    "                ResidualBlock(64, 128, 128),\n",
    "                ResidualBlock(128, 128, 128),\n",
    "                ResidualBlock(128, 256, 256),\n",
    "                ResidualBlock(256, 256, 256),\n",
    "                ResidualBlock(256, 512, 512),\n",
    "                ResidualBlock(512, 512, 512),\n",
    "            ]\n",
    "        )\n",
    "\n",
    "        self.dense_layer = nn.Linear(512, out_size)\n",
    "\n",
    "        for module in self.modules():\n",
    "            if isinstance(module, nn.Conv2d):\n",
    "                nn.init.kaiming_normal_(\n",
    "                    module.weight, mode=\"fan_out\", nonlinearity=\"relu\"\n",
    "                )\n",
    "\n",
    "    def forward(self, x):\n",
    "        \"\"\"\n",
    "        Connects the layers and residual blocks.\n",
    "        \"\"\"\n",
    "\n",
    "        x = self.conv1(x)\n",
    "        x = self.batch1(x)\n",
    "        x = self.relu(x)\n",
    "        x = self.pool1(x)\n",
    "        for block in self.res_blocks:\n",
    "            x = block.forward(x)\n",
    "        x = F.avg_pool2d(x, x.shape[2:])\n",
    "\n",
    "        x = x.view(x.size(0), -1)\n",
    "        x = self.dense_layer(x)\n",
    "\n",
    "        return x\n"
   ]
  },
  {
   "cell_type": "markdown",
   "metadata": {},
   "source": [
    "### 3. Train the network"
   ]
  },
  {
   "cell_type": "code",
   "execution_count": null,
   "metadata": {
    "id": "FIofWmkrT6Oh"
   },
   "outputs": [],
   "source": [
    "# instantiate the network\n",
    "net = ResNet(C, len(CLASSES)).to(device)\n",
    "\n",
    "# define the loss function\n",
    "criterion = nn.CrossEntropyLoss()\n",
    "\n",
    "# declare the optimization function\n",
    "optimizer = torch.optim.Adam(net.parameters(), lr=0.001)\n"
   ]
  },
  {
   "cell_type": "code",
   "execution_count": null,
   "metadata": {
    "colab": {
     "base_uri": "https://localhost:8080/"
    },
    "id": "IcG_bfjoT7Dx",
    "outputId": "5071a5c4-5a56-4c86-b044-4213a160c97f"
   },
   "outputs": [],
   "source": [
    "# initialize the timer\n",
    "start = time.time()\n",
    "\n",
    "# define lists that store train and test accuracy for each epoch\n",
    "train_acc = []\n",
    "test_acc = []\n",
    "\n",
    "for epoch in tqdm(range(0, 3)):\n",
    "\n",
    "    # initialize number of correct train predictions for the current epoch\n",
    "    correct_train_total = 0\n",
    "\n",
    "    net.train()  # Put the network in train mode\n",
    "    for i, (x_batch, y_batch) in enumerate(trainloader):\n",
    "        # Move the data to the device that is used\n",
    "        x_batch, y_batch = x_batch.to(device), y_batch.to(\n",
    "            device\n",
    "        )\n",
    "\n",
    "        # Set all currenly stored gradients to zero\n",
    "        optimizer.zero_grad()\n",
    "\n",
    "        y_pred = net(x_batch)\n",
    "\n",
    "        # compute loss\n",
    "        loss = criterion(y_pred, y_batch)\n",
    "\n",
    "        # backpropagate gradients\n",
    "        loss.backward()\n",
    "\n",
    "        # apply the optimization step\n",
    "        optimizer.step()\n",
    "\n",
    "        # Get the labels with highest output probability\n",
    "        y_pred_max = torch.argmax(\n",
    "            y_pred, dim=1\n",
    "        )\n",
    "\n",
    "        # Count how many are equal to the true labels\n",
    "        correct = torch.sum(\n",
    "            torch.eq(y_pred_max, y_batch)\n",
    "        ).item()\n",
    "\n",
    "        # Keep track of how much time has elapsed\n",
    "        elapsed = time.time() - start\n",
    "\n",
    "        # Accumulate number of correct predictions\n",
    "        correct_train_total += correct\n",
    "\n",
    "        correct_total = 0\n",
    "\n",
    "    # store train accuracy for current epoch\n",
    "    train_acc.append(correct_train_total / len(trainset))\n",
    "\n",
    "    # Put the network in eval mode\n",
    "    net.eval()\n",
    "\n",
    "    for i, (x_batch, y_batch) in enumerate(testloader):\n",
    "        # Move the data to the device that is used\n",
    "        x_batch, y_batch = x_batch.to(device), y_batch.to(\n",
    "            device\n",
    "        )\n",
    "\n",
    "        # count number of correct predictions\n",
    "        y_pred = net(x_batch)\n",
    "        y_pred_max = torch.argmax(y_pred, dim=1)\n",
    "\n",
    "        correct_total += torch.sum(torch.eq(y_pred_max, y_batch)).item()\n",
    "\n",
    "    # store test accuracy for current epoch\n",
    "    test_acc.append(correct_total / len(testset))\n"
   ]
  },
  {
   "cell_type": "markdown",
   "metadata": {},
   "source": [
    "### 4. Visualize performance"
   ]
  },
  {
   "cell_type": "code",
   "execution_count": null,
   "metadata": {},
   "outputs": [],
   "source": [
    "plt.plot(range(len(train_acc)), train_acc)\n",
    "plt.plot(range(len(test_acc)), test_acc)\n",
    "plt.legend([\"train\", \"test\"])\n",
    "plt.xlabel(\"epoch number\")\n",
    "plt.ylabel(\"accuracy\")\n",
    "plt.title(\"Train and test accuracy evolution\")\n",
    "\n",
    "print(f\"Train accuracy: {train_acc[-1]}\\nTest accuracy: {test_acc[-1]}\")"
   ]
  },
  {
   "cell_type": "markdown",
   "metadata": {},
   "source": [
    "### 5. Store and load model"
   ]
  },
  {
   "cell_type": "code",
   "execution_count": null,
   "metadata": {},
   "outputs": [],
   "source": [
    "# create a folder for storing the models\n",
    "if not os.path.exists(MODEL_PATH):\n",
    "    os.mkdir(MODEL_PATH)\n",
    "\n",
    "# store the trained model\n",
    "torch.save(net.state_dict(), MODEL_PATH + MODEL_NAME)"
   ]
  },
  {
   "cell_type": "code",
   "execution_count": null,
   "metadata": {},
   "outputs": [],
   "source": [
    "# load the trained model\n",
    "model = ResNet(C, len(CLASSES)).to(device)\n",
    "model.load_state_dict(torch.load(MODEL_PATH + MODEL_NAME))\n",
    "model.eval()"
   ]
  }
 ],
 "metadata": {
  "accelerator": "GPU",
  "colab": {
   "provenance": []
  },
  "kernelspec": {
   "display_name": "Python",
   "language": "python",
   "name": "python3"
  },
  "language_info": {
   "codemirror_mode": {
    "name": "ipython",
    "version": 3
   },
   "file_extension": ".py",
   "mimetype": "text/x-python",
   "name": "python",
   "nbconvert_exporter": "python",
   "pygments_lexer": "ipython3",
   "version": "3.8.10"
  }
 },
 "nbformat": 4,
 "nbformat_minor": 4
}
